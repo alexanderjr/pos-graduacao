{
 "cells": [
  {
   "cell_type": "code",
   "execution_count": 5,
   "metadata": {},
   "outputs": [],
   "source": [
    "from sklearn import datasets\n",
    "from sklearn.decomposition import PCA\n",
    "from sklearn.model_selection import train_test_split\n",
    "from sklearn.ensemble import RandomForestClassifier\n",
    "from sklearn.neighbors import KNeighborsClassifier\n",
    "from sklearn.tree import DecisionTreeClassifier\n",
    "from sklearn.metrics import accuracy_score\n",
    "from sklearn.metrics import recall_score\n",
    "from sklearn.metrics import precision_score\n",
    "from sklearn.metrics import recall_score\n",
    "from sklearn.model_selection import GridSearchCV\n",
    "from sklearn.svm import SVC"
   ]
  },
  {
   "cell_type": "code",
   "execution_count": 6,
   "metadata": {},
   "outputs": [],
   "source": [
    "iris = datasets.load_iris()\n",
    "x = iris.data[:, :2]\n",
    "y = iris.target"
   ]
  },
  {
   "cell_type": "code",
   "execution_count": 7,
   "metadata": {},
   "outputs": [],
   "source": [
    "X_train, X_test, y_train, y_test = train_test_split(x, y, test_size=0.33, random_state=42)"
   ]
  },
  {
   "cell_type": "code",
   "execution_count": 8,
   "metadata": {},
   "outputs": [],
   "source": [
    "rfc = RandomForestClassifier()\n",
    "rfc.fit(X_train,y_train)\n",
    "y_pred = rfc.predict(X_test)"
   ]
  },
  {
   "cell_type": "code",
   "execution_count": 9,
   "metadata": {},
   "outputs": [],
   "source": [
    "rfc_acc = round(accuracy_score(y_test, y_pred), 6)\n",
    "rfc_recall = round(recall_score(y_test, y_pred, average='weighted'), 6)\n",
    "rfc_precision = round(precision_score(y_test, y_pred, average='weighted'), 6)"
   ]
  },
  {
   "cell_type": "code",
   "execution_count": 10,
   "metadata": {},
   "outputs": [],
   "source": [
    "knn = KNeighborsClassifier(n_neighbors=3)\n",
    "knn.fit(X_train, y_train)\n",
    "y_pred = knn.predict(X_test)"
   ]
  },
  {
   "cell_type": "code",
   "execution_count": 11,
   "metadata": {},
   "outputs": [],
   "source": [
    "knn_acc = round(accuracy_score(y_test, y_pred), 6)\n",
    "knn_recall = round(recall_score(y_test, y_pred, average='weighted'), 6)\n",
    "knn_precision = round(precision_score(y_test, y_pred, average='weighted'), 6)"
   ]
  },
  {
   "cell_type": "code",
   "execution_count": 12,
   "metadata": {},
   "outputs": [],
   "source": [
    "clf = DecisionTreeClassifier(random_state=0)\n",
    "clf.fit(X_train,y_train)\n",
    "y_pred = clf.predict(X_test)"
   ]
  },
  {
   "cell_type": "code",
   "execution_count": 13,
   "metadata": {},
   "outputs": [],
   "source": [
    "clf_acc = round(accuracy_score(y_test, y_pred), 6)\n",
    "clf_recall = round(recall_score(y_test, y_pred, average='weighted'), 6)\n",
    "clf_precision = round(precision_score(y_test, y_pred, average='weighted'), 6)"
   ]
  },
  {
   "cell_type": "code",
   "execution_count": 14,
   "metadata": {},
   "outputs": [],
   "source": [
    "svc = SVC()\n",
    "svc.fit(x, y)\n",
    "y_pred = rfc.predict(X_test)"
   ]
  },
  {
   "cell_type": "code",
   "execution_count": 15,
   "metadata": {},
   "outputs": [],
   "source": [
    "svc_acc = round(accuracy_score(y_test, y_pred), 6)\n",
    "svc_recall = round(recall_score(y_test, y_pred, average='weighted'), 6)\n",
    "svc_precision = round(precision_score(y_test, y_pred, average='weighted'), 6)"
   ]
  },
  {
   "cell_type": "code",
   "execution_count": 16,
   "metadata": {},
   "outputs": [
    {
     "name": "stdout",
     "output_type": "stream",
     "text": [
      "Random Forests\n",
      " vs KNeighborsClassifier\n",
      " vs DecisionTreeClassifier\n",
      " vs SVC\n",
      "Classes: ['setosa' 'versicolor' 'virginica']\n",
      "\n"
     ]
    }
   ],
   "source": [
    "print(\"Random Forests\\n vs KNeighborsClassifier\\n vs DecisionTreeClassifier\\n vs SVC\")\n",
    "print(\"Classes: {0}\\n\".format(iris.target_names))"
   ]
  },
  {
   "cell_type": "code",
   "execution_count": 37,
   "metadata": {},
   "outputs": [
    {
     "name": "stdout",
     "output_type": "stream",
     "text": [
      "Acurácia: 0.74 vs 0.76 vs 0.7 vs 0.74\n",
      "Recall:  0.74 vs 0.76 vs 0.7 vs 0.74\n",
      "Precisão: 0.739664 vs 0.760171 vs 0.71 vs 0.739664\n"
     ]
    }
   ],
   "source": [
    "print(\"Acurácia: {0} vs {1} vs {2} vs {3}\".format(rfc_acc, knn_acc, clf_acc, svc_acc))\n",
    "print(\"Recall:  {0} vs {1} vs {2} vs {3}\".format(rfc_recall, knn_recall,  clf_recall, svc_recall))\n",
    "print(\"Precisão: {0} vs {1} vs {2} vs {3}\".format(rfc_precision, knn_precision,  clf_precision, svc_precision))"
   ]
  },
  {
   "cell_type": "code",
   "execution_count": 38,
   "metadata": {},
   "outputs": [
    {
     "name": "stdout",
     "output_type": "stream",
     "text": [
      "\n",
      "Validação cruzada:\n",
      " [0.66666667 0.8        0.63333333 0.86666667 0.66666667] vs\n",
      " [0.66666667 0.7        0.76666667 0.76666667 0.7       ] vs\n",
      " [0.73333333 0.86666667 0.76666667 0.86666667 0.86666667] vs\n",
      " [0.7        0.7        0.73333333 0.8        0.66666667]\n"
     ]
    }
   ],
   "source": [
    "from sklearn.model_selection import cross_val_score\n",
    "cv_rfc = cross_val_score(rfc, x, y, cv=5)\n",
    "cv_knn = cross_val_score(knn, x, y, cv=5)\n",
    "cv_svc = cross_val_score(svc, x, y, cv=5)\n",
    "cv_clf = cross_val_score(clf, x, y, cv=5)\n",
    " \n",
    "print(\"\\nValidação cruzada:\\n {0} vs\\n {1} vs\\n {2} vs\\n {3}\".format(cv_knn, cv_rfc, cv_svc, cv_clf))"
   ]
  },
  {
   "cell_type": "code",
   "execution_count": 19,
   "metadata": {},
   "outputs": [
    {
     "name": "stdout",
     "output_type": "stream",
     "text": [
      "Melhor valor para o parâmetro min_samples_split: 2\n"
     ]
    }
   ],
   "source": [
    "parameters = {'min_samples_split':(2,6)}\n",
    "rfc_hps = GridSearchCV(rfc, parameters)\n",
    "rfc_hps.fit(x, y)\n",
    "print(\"Melhor valor para o parâmetro min_samples_split: {0}\".format(rfc_hps.best_params_['min_samples_split']))"
   ]
  },
  {
   "cell_type": "code",
   "execution_count": 20,
   "metadata": {},
   "outputs": [
    {
     "name": "stdout",
     "output_type": "stream",
     "text": [
      "Melhor valor para o parâmetro n_neighbors: 20\n"
     ]
    }
   ],
   "source": [
    "#KNN\n",
    "parameters = {'n_neighbors':(1,20)}\n",
    "knn_hps = GridSearchCV(knn, parameters)\n",
    "knn_hps.fit(x, y)\n",
    "knn_hps.best_params_['n_neighbors']\n",
    "print(\"Melhor valor para o parâmetro n_neighbors: {0}\".format(knn_hps.best_params_['n_neighbors']))"
   ]
  },
  {
   "cell_type": "code",
   "execution_count": 24,
   "metadata": {},
   "outputs": [
    {
     "name": "stdout",
     "output_type": "stream",
     "text": [
      "Melhor valor para o parâmetro min_samples_split: 6\n"
     ]
    }
   ],
   "source": [
    "parameters = {'min_samples_split':(2,6)}\n",
    "clf_hps = GridSearchCV(clf, parameters)\n",
    "clf_hps.fit(x, y)\n",
    "print(\"Melhor valor para o parâmetro min_samples_split: {0}\".format(clf_hps.best_params_['min_samples_split']))"
   ]
  },
  {
   "cell_type": "code",
   "execution_count": 25,
   "metadata": {},
   "outputs": [
    {
     "name": "stdout",
     "output_type": "stream",
     "text": [
      "Melhor valor para o parâmetro min_samples_split: 1\n"
     ]
    }
   ],
   "source": [
    "parameters = {'C':(1, 10)}\n",
    "svc_hps = GridSearchCV(svc, parameters)\n",
    "svc_hps.fit(x, y)\n",
    "print(\"Melhor valor para o parâmetro min_samples_split: {0}\".format(svc_hps.best_params_['C']))"
   ]
  },
  {
   "cell_type": "code",
   "execution_count": 85,
   "metadata": {},
   "outputs": [
    {
     "name": "stdout",
     "output_type": "stream",
     "text": [
      "Melhor valor para o parâmetro n_neighbors: 20\n"
     ]
    }
   ],
   "source": [
    "# parameters = {'n_neighbors':(1,20)}\n",
    "# knn_hps = GridSearchCV(knn, parameters)\n",
    "# knn_hps.fit(x, y)\n",
    "# knn_hps.best_params_['n_neighbors']\n",
    "# print(\"Melhor valor para o parâmetro n_neighbors: {0}\".format(knn_hps.best_params_['n_neighbors']))"
   ]
  }
 ],
 "metadata": {
  "kernelspec": {
   "display_name": "Python 2",
   "language": "python",
   "name": "python2"
  },
  "language_info": {
   "codemirror_mode": {
    "name": "ipython",
    "version": 2
   },
   "file_extension": ".py",
   "mimetype": "text/x-python",
   "name": "python",
   "nbconvert_exporter": "python",
   "pygments_lexer": "ipython2",
   "version": "2.7.14"
  }
 },
 "nbformat": 4,
 "nbformat_minor": 2
}
