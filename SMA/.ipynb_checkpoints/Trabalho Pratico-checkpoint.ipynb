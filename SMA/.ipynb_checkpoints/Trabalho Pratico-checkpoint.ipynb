{
 "cells": [
  {
   "cell_type": "code",
   "execution_count": 1,
   "metadata": {},
   "outputs": [],
   "source": [
    "from sklearn import datasets\n",
    "from sklearn.decomposition import PCA\n",
    "from sklearn.model_selection import train_test_split\n",
    "from sklearn.ensemble import RandomForestClassifier\n",
    "from sklearn.neighbors import KNeighborsClassifier\n",
    "from sklearn.tree import DecisionTreeClassifier\n",
    "from sklearn.metrics import accuracy_score\n",
    "from sklearn.metrics import recall_score\n",
    "from sklearn.metrics import precision_score\n",
    "from sklearn.metrics import recall_score\n",
    "from sklearn.model_selection import GridSearchCV\n",
    "from sklearn.svm import SVC"
   ]
  },
  {
   "cell_type": "code",
   "execution_count": 57,
   "metadata": {},
   "outputs": [],
   "source": [
    "iris = datasets.load_iris()\n",
    "x = iris.data[:, :2]\n",
    "y = iris.target"
   ]
  },
  {
   "cell_type": "code",
   "execution_count": 58,
   "metadata": {},
   "outputs": [],
   "source": [
    "X_train, X_test, y_train, y_test = train_test_split(x, y, test_size=0.33, random_state=42)"
   ]
  },
  {
   "cell_type": "code",
   "execution_count": 118,
   "metadata": {},
   "outputs": [],
   "source": [
    "rfc = RandomForestClassifier()\n",
    "rfc.fit(X_train,y_train)\n",
    "y_pred = rfc.predict(X_test)"
   ]
  },
  {
   "cell_type": "code",
   "execution_count": 119,
   "metadata": {},
   "outputs": [],
   "source": [
    "rfc_acc = round(accuracy_score(y_test, y_pred), 6)\n",
    "rfc_recall = round(recall_score(y_test, y_pred, average='weighted'), 6)\n",
    "rfc_precision = round(precision_score(y_test, y_pred, average='weighted'), 6)"
   ]
  },
  {
   "cell_type": "code",
   "execution_count": 120,
   "metadata": {},
   "outputs": [],
   "source": [
    "knn = KNeighborsClassifier(n_neighbors=3)\n",
    "knn.fit(X_train, y_train)\n",
    "y_pred = knn.predict(X_test)"
   ]
  },
  {
   "cell_type": "code",
   "execution_count": 121,
   "metadata": {},
   "outputs": [],
   "source": [
    "knn_acc = round(accuracy_score(y_test, y_pred), 6)\n",
    "knn_recall = round(recall_score(y_test, y_pred, average='weighted'), 6)\n",
    "knn_precision = round(precision_score(y_test, y_pred, average='weighted'), 6)"
   ]
  },
  {
   "cell_type": "code",
   "execution_count": 122,
   "metadata": {},
   "outputs": [],
   "source": [
    "clf = DecisionTreeClassifier(random_state=0)\n",
    "clf.fit(X_train,y_train)\n",
    "y_pred = clf.predict(X_test)"
   ]
  },
  {
   "cell_type": "code",
   "execution_count": 123,
   "metadata": {},
   "outputs": [],
   "source": [
    "clf_acc = round(accuracy_score(y_test, y_pred), 6)\n",
    "clf_recall = round(recall_score(y_test, y_pred, average='weighted'), 6)\n",
    "clf_precision = round(precision_score(y_test, y_pred, average='weighted'), 6)"
   ]
  },
  {
   "cell_type": "code",
   "execution_count": 124,
   "metadata": {},
   "outputs": [],
   "source": [
    "svc = SVC()\n",
    "svc.fit(x, y)\n",
    "y_pred = rfc.predict(X_test)"
   ]
  },
  {
   "cell_type": "code",
   "execution_count": 116,
   "metadata": {},
   "outputs": [],
   "source": [
    "svc_acc = round(accuracy_score(y_test, y_pred), 6)\n",
    "svc_recall = round(recall_score(y_test, y_pred, average='weighted'), 6)\n",
    "svc_precision = round(precision_score(y_test, y_pred, average='weighted'), 6)"
   ]
  },
  {
   "cell_type": "code",
   "execution_count": 125,
   "metadata": {},
   "outputs": [
    {
     "name": "stdout",
     "output_type": "stream",
     "text": [
      "Random Forests\n",
      " vs KNeighborsClassifier\n",
      " vs DecisionTreeClassifier\n",
      " vs SVC\n",
      "Classes: ['setosa' 'versicolor' 'virginica']\n",
      "\n"
     ]
    }
   ],
   "source": [
    "print(\"Random Forests\\n vs KNeighborsClassifier\\n vs DecisionTreeClassifier\\n vs SVC\")\n",
    "print(\"Classes: {0}\\n\".format(iris.target_names))"
   ]
  },
  {
   "cell_type": "code",
   "execution_count": 130,
   "metadata": {},
   "outputs": [
    {
     "name": "stdout",
     "output_type": "stream",
     "text": [
      "Acurácia: 0.74 vs 0.76 vs 0.7 vs 0.76\n",
      "Recall:  0.74 vs 0.76 vs 0.7 vs 0.76\n",
      "Precisão: 0.74075 vs 0.760171 vs 0.71 vs 0.760171\n"
     ]
    }
   ],
   "source": [
    "print(\"Acurácia: {0} vs {1} vs {2} vs {3}\".format(rfc_acc, knn_acc, clf_acc, svc_acc))\n",
    "print(\"Recall:  {0} vs {1} vs {2} vs {3}\".format(rfc_recall, knn_recall,  clf_recall, svc_recall))\n",
    "print(\"Precisão: {0} vs {1} vs {2} vs {3}\".format(rfc_precision, knn_precision,  clf_precision, svc_precision))"
   ]
  },
  {
   "cell_type": "code",
   "execution_count": 139,
   "metadata": {},
   "outputs": [
    {
     "name": "stdout",
     "output_type": "stream",
     "text": [
      "\n",
      "Validação cruzada:\n",
      " [0.7254902  0.68627451 0.77083333] vs\n",
      " [0.74509804 0.66666667 0.6875    ] vs\n",
      " [0.76470588 0.84313725 0.79166667] vs\n",
      " [0.7254902  0.7254902  0.64583333]\n"
     ]
    }
   ],
   "source": [
    "from sklearn.model_selection import cross_val_score\n",
    "cv_rfc = cross_val_score(rfc, x, y)\n",
    "cv_knn = cross_val_score(knn, x, y)\n",
    "cv_svc = cross_val_score(svc, x, y)\n",
    "cv_clf = cross_val_score(clf, x, y)\n",
    " \n",
    "print(\"\\nValidação cruzada:\\n {0} vs\\n {1} vs\\n {2} vs\\n {3}\".format(cv_knn, cv_rfc, cv_svc, cv_clf))"
   ]
  },
  {
   "cell_type": "code",
   "execution_count": 149,
   "metadata": {},
   "outputs": [
    {
     "name": "stdout",
     "output_type": "stream",
     "text": [
      "Melhor valor para o parâmetro min_samples_split: 2\n"
     ]
    }
   ],
   "source": [
    "parameters = {'min_samples_split':(2,6)}\n",
    "rfc_hps = GridSearchCV(rfc, parameters)\n",
    "rfc_hps.fit(x, y)\n",
    "print(\"Melhor valor para o parâmetro min_samples_split: {0}\".format(rfc_hps.best_params_['min_samples_split']))"
   ]
  },
  {
   "cell_type": "code",
   "execution_count": 150,
   "metadata": {},
   "outputs": [
    {
     "name": "stdout",
     "output_type": "stream",
     "text": [
      "Melhor valor para o parâmetro n_neighbors: 20\n"
     ]
    }
   ],
   "source": [
    "#KNN\n",
    "parameters = {'n_neighbors':(1,20)}\n",
    "knn_hps = GridSearchCV(knn, parameters)\n",
    "knn_hps.fit(x, y)\n",
    "knn_hps.best_params_['n_neighbors']\n",
    "print(\"Melhor valor para o parâmetro n_neighbors: {0}\".format(knn_hps.best_params_['n_neighbors']))"
   ]
  },
  {
   "cell_type": "code",
   "execution_count": 156,
   "metadata": {},
   "outputs": [
    {
     "ename": "AttributeError",
     "evalue": "'DecisionTreeClassifier' object has no attribute 'best_params_'",
     "output_type": "error",
     "traceback": [
      "\u001b[0;31m---------------------------------------------------------------------------\u001b[0m",
      "\u001b[0;31mAttributeError\u001b[0m                            Traceback (most recent call last)",
      "\u001b[0;32m<ipython-input-156-e81cd2391066>\u001b[0m in \u001b[0;36m<module>\u001b[0;34m()\u001b[0m\n\u001b[1;32m      2\u001b[0m \u001b[0mclf_hps\u001b[0m \u001b[0;34m=\u001b[0m \u001b[0mGridSearchCV\u001b[0m\u001b[0;34m(\u001b[0m\u001b[0mclf\u001b[0m\u001b[0;34m,\u001b[0m \u001b[0mparameters\u001b[0m\u001b[0;34m)\u001b[0m\u001b[0;34m\u001b[0m\u001b[0m\n\u001b[1;32m      3\u001b[0m \u001b[0mclf_hps\u001b[0m\u001b[0;34m.\u001b[0m\u001b[0mfit\u001b[0m\u001b[0;34m(\u001b[0m\u001b[0mx\u001b[0m\u001b[0;34m,\u001b[0m \u001b[0my\u001b[0m\u001b[0;34m)\u001b[0m\u001b[0;34m\u001b[0m\u001b[0m\n\u001b[0;32m----> 4\u001b[0;31m \u001b[0mprint\u001b[0m\u001b[0;34m(\u001b[0m\u001b[0;34m\"Melhor valor para o parâmetro min_samples_split: {0}\"\u001b[0m\u001b[0;34m.\u001b[0m\u001b[0mformat\u001b[0m\u001b[0;34m(\u001b[0m\u001b[0mclf\u001b[0m\u001b[0;34m.\u001b[0m\u001b[0mbest_params_\u001b[0m\u001b[0;34m[\u001b[0m\u001b[0;34m'min_samples_split'\u001b[0m\u001b[0;34m]\u001b[0m\u001b[0;34m)\u001b[0m\u001b[0;34m)\u001b[0m\u001b[0;34m\u001b[0m\u001b[0m\n\u001b[0m",
      "\u001b[0;31mAttributeError\u001b[0m: 'DecisionTreeClassifier' object has no attribute 'best_params_'"
     ]
    }
   ],
   "source": [
    "parameters = {'min_samples_split':(2,6)}\n",
    "clf_hps = GridSearchCV(clf, parameters)\n",
    "clf_hps.fit(x, y)\n",
    "print(\"Melhor valor para o parâmetro min_samples_split: {0}\".format(clf.best_params_['min_samples_split']))"
   ]
  },
  {
   "cell_type": "code",
   "execution_count": 155,
   "metadata": {},
   "outputs": [
    {
     "name": "stdout",
     "output_type": "stream",
     "text": [
      "Melhor valor para o parâmetro min_samples_split: 1\n"
     ]
    }
   ],
   "source": [
    "parameters = {'C':(1, 10)}\n",
    "svc_hps = GridSearchCV(svc, parameters)\n",
    "svc_hps.fit(x, y)\n",
    "print(\"Melhor valor para o parâmetro min_samples_split: {0}\".format(svc_hps.best_params_['C']))"
   ]
  },
  {
   "cell_type": "code",
   "execution_count": 85,
   "metadata": {},
   "outputs": [
    {
     "name": "stdout",
     "output_type": "stream",
     "text": [
      "Melhor valor para o parâmetro n_neighbors: 20\n"
     ]
    }
   ],
   "source": [
    "# parameters = {'n_neighbors':(1,20)}\n",
    "# knn_hps = GridSearchCV(knn, parameters)\n",
    "# knn_hps.fit(x, y)\n",
    "# knn_hps.best_params_['n_neighbors']\n",
    "# print(\"Melhor valor para o parâmetro n_neighbors: {0}\".format(knn_hps.best_params_['n_neighbors']))"
   ]
  }
 ],
 "metadata": {
  "kernelspec": {
   "display_name": "Python 2",
   "language": "python",
   "name": "python2"
  },
  "language_info": {
   "codemirror_mode": {
    "name": "ipython",
    "version": 2
   },
   "file_extension": ".py",
   "mimetype": "text/x-python",
   "name": "python",
   "nbconvert_exporter": "python",
   "pygments_lexer": "ipython2",
   "version": "2.7.14"
  }
 },
 "nbformat": 4,
 "nbformat_minor": 2
}
