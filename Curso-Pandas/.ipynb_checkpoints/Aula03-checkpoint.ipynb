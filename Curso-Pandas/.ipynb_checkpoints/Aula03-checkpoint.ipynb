{
 "cells": [
  {
   "cell_type": "code",
   "execution_count": null,
   "metadata": {},
   "outputs": [],
   "source": []
  },
  {
   "cell_type": "markdown",
   "metadata": {},
   "source": [
    "# Relatório de Análise"
   ]
  },
  {
   "cell_type": "code",
   "execution_count": 2,
   "metadata": {},
   "outputs": [],
   "source": [
    "import pandas as pd"
   ]
  },
  {
   "cell_type": "code",
   "execution_count": 8,
   "metadata": {},
   "outputs": [],
   "source": [
    "dados = pd.read_csv('dados/aluguel.csv', sep=';')"
   ]
  },
  {
   "cell_type": "code",
   "execution_count": 14,
   "metadata": {},
   "outputs": [
    {
     "data": {
      "text/plain": [
       "0                          Quitinete\n",
       "1                               Casa\n",
       "2            Conjunto Comercial/Sala\n",
       "3                        Apartamento\n",
       "7                 Casa de Condomínio\n",
       "16                    Prédio Inteiro\n",
       "17                              Flat\n",
       "29                        Loja/Salão\n",
       "80           Galpão/Depósito/Armazém\n",
       "83                    Casa Comercial\n",
       "117                     Casa de Vila\n",
       "159                   Terreno Padrão\n",
       "207                      Box/Garagem\n",
       "347                             Loft\n",
       "589      Loja Shopping/ Ct Comercial\n",
       "2157                         Chácara\n",
       "3354           Loteamento/Condomínio\n",
       "4379                           Sítio\n",
       "4721                   Pousada/Chalé\n",
       "6983                          Studio\n",
       "9687                           Hotel\n",
       "23614                      Indústria\n",
       "Name: Tipo, dtype: object"
      ]
     },
     "execution_count": 14,
     "metadata": {},
     "output_type": "execute_result"
    }
   ],
   "source": [
    "tipo_de_imovel = dados['Tipo']\n",
    "tipo_de_imovel.drop_duplicates()"
   ]
  },
  {
   "cell_type": "markdown",
   "metadata": {},
   "source": [
    "# Organizando a Visualização"
   ]
  }
 ],
 "metadata": {
  "kernelspec": {
   "display_name": "Python 2",
   "language": "python",
   "name": "python2"
  },
  "language_info": {
   "codemirror_mode": {
    "name": "ipython",
    "version": 2
   },
   "file_extension": ".py",
   "mimetype": "text/x-python",
   "name": "python",
   "nbconvert_exporter": "python",
   "pygments_lexer": "ipython2",
   "version": "2.7.14"
  }
 },
 "nbformat": 4,
 "nbformat_minor": 2
}
