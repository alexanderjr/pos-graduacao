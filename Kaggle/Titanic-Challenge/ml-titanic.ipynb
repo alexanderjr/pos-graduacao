{
 "cells": [
  {
   "cell_type": "code",
   "execution_count": 1,
   "metadata": {},
   "outputs": [],
   "source": [
    "import pandas as pd\n",
    "import numpy as np\n",
    "from sklearn.linear_model import LogisticRegression\n",
    "from sklearn.metrics import accuracy_score"
   ]
  },
  {
   "cell_type": "code",
   "execution_count": 25,
   "metadata": {},
   "outputs": [
    {
     "name": "stdout",
     "output_type": "stream",
     "text": [
      "<class 'pandas.core.frame.DataFrame'>\n",
      "RangeIndex: 418 entries, 0 to 417\n",
      "Data columns (total 11 columns):\n",
      "PassengerId    418 non-null bool\n",
      "Pclass         418 non-null bool\n",
      "Name           418 non-null bool\n",
      "Sex            418 non-null bool\n",
      "Age            418 non-null bool\n",
      "SibSp          418 non-null bool\n",
      "Parch          418 non-null bool\n",
      "Ticket         418 non-null bool\n",
      "Fare           418 non-null bool\n",
      "Cabin          418 non-null bool\n",
      "Embarked       418 non-null bool\n",
      "dtypes: bool(11)\n",
      "memory usage: 4.6 KB\n"
     ]
    }
   ],
   "source": [
    "passengers = pd.read_csv('test.csv')\n",
    "passengers.isnull().info()\n",
    "features = passengers[passengers.columns[2:]]\n",
    "#print(features)"
   ]
  }
 ],
 "metadata": {
  "kernelspec": {
   "display_name": "Python 2",
   "language": "python",
   "name": "python2"
  },
  "language_info": {
   "codemirror_mode": {
    "name": "ipython",
    "version": 2
   },
   "file_extension": ".py",
   "mimetype": "text/x-python",
   "name": "python",
   "nbconvert_exporter": "python",
   "pygments_lexer": "ipython2",
   "version": "2.7.14"
  }
 },
 "nbformat": 4,
 "nbformat_minor": 2
}
