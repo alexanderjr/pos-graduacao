{
 "cells": [
  {
   "cell_type": "markdown",
   "metadata": {},
   "source": [
    "# Naive Bayes (classificador de spam)"
   ]
  },
  {
   "cell_type": "markdown",
   "metadata": {},
   "source": [
    "Esse exemplo foi adaptado de Frank Kane da Sundog Education http://sundog-education.com/ e qualquer reprodução deve referenciar seus produtores"
   ]
  },
  {
   "cell_type": "markdown",
   "metadata": {},
   "source": [
    "#Etapa 1: realizar a leitura dos e-mails e colocá-los em um dataframe"
   ]
  },
  {
   "cell_type": "code",
   "execution_count": 9,
   "metadata": {},
   "outputs": [],
   "source": [
    "import os #biblioteca para acessar funções do S.O.\n",
    "import io #biblioteca para manipulação de arquivos\n",
    "from sklearn.feature_extraction.text import CountVectorizer\n",
    "from sklearn.naive_bayes import MultinomialNB\n",
    "\n",
    "#função de leitura do arquivo de e-mails \n",
    "def readFiles(path):\n",
    "    for root, dirnames, filenames in os.walk(path):\n",
    "        for filename in filenames:\n",
    "            # encontra o arquivo\n",
    "            path = os.path.join(root, filename)\n",
    "            inBody = False\n",
    "            lines = []\n",
    "            # abre o arquivo\n",
    "            f = io.open(path, 'r', encoding='latin1')\n",
    "            # le p arquivo até o final separando por linhas\n",
    "            for line in f:\n",
    "                if inBody:\n",
    "                    lines.append(line)\n",
    "                elif line == '\\n':\n",
    "                    inBody = True\n",
    "            f.close()\n",
    "            message = '\\n'.join(lines)\n",
    "            #retorna os valores\n",
    "            yield path, message\n"
   ]
  },
  {
   "cell_type": "markdown",
   "metadata": {},
   "source": [
    "Etapa 2: Criando os DataFrames para a manipulação dos dados. Nossos DataFrames possuem dois campos: mensagem e o rótulo atribuido a priori"
   ]
  },
  {
   "cell_type": "code",
   "execution_count": 24,
   "metadata": {},
   "outputs": [],
   "source": [
    "import numpy as np\n",
    "from pandas import DataFrame\n",
    "\n",
    "#cria uma estrutura de dados à partir dos dados coletados do arquivo\n",
    "def dataFrameFromDirectory(path, classification):\n",
    "    rows = []\n",
    "    index = []\n",
    "    for filename, message in readFiles(path):\n",
    "        rows.append({'message': message, 'class': classification})\n",
    "        index.append(filename)\n",
    "    return DataFrame(rows, index=index)\n",
    "\n",
    "# coloque aqui o caminho do diretório onde se encontram os e-mails na sua máquina\n",
    "path = \"/var/www/html/pos-graduacao/RDP/atv02/data\"\n",
    "\n",
    "# realiza a leiura dos arquivos com os spams 'spam' e dos não spam 'ham'\n",
    "data = DataFrame({'message': [], 'class': []})\n",
    "data = data.append(dataFrameFromDirectory(path+'/spam', 'spam'))\n",
    "data = data.append(dataFrameFromDirectory(path+'/ham', 'ham'))"
   ]
  },
  {
   "cell_type": "markdown",
   "metadata": {},
   "source": [
    "Vamos exibir os primeiros registros do aquivo"
   ]
  },
  {
   "cell_type": "code",
   "execution_count": 25,
   "metadata": {},
   "outputs": [
    {
     "data": {
      "text/html": [
       "<div>\n",
       "<style scoped>\n",
       "    .dataframe tbody tr th:only-of-type {\n",
       "        vertical-align: middle;\n",
       "    }\n",
       "\n",
       "    .dataframe tbody tr th {\n",
       "        vertical-align: top;\n",
       "    }\n",
       "\n",
       "    .dataframe thead th {\n",
       "        text-align: right;\n",
       "    }\n",
       "</style>\n",
       "<table border=\"1\" class=\"dataframe\">\n",
       "  <thead>\n",
       "    <tr style=\"text-align: right;\">\n",
       "      <th></th>\n",
       "      <th>class</th>\n",
       "      <th>message</th>\n",
       "    </tr>\n",
       "  </thead>\n",
       "  <tbody>\n",
       "    <tr>\n",
       "      <th>/var/www/html/pos-graduacao/RDP/atv02/data/spam/00482.980c7ceb9333bc5027cd8d1d360a8c6f</th>\n",
       "      <td>spam</td>\n",
       "      <td>AFFORDABLE DOMAIN REGISTRATION FOR EVERYONE\\n\\...</td>\n",
       "    </tr>\n",
       "    <tr>\n",
       "      <th>/var/www/html/pos-graduacao/RDP/atv02/data/spam/00131.d955acc659fb151479460f9dd2f87efe</th>\n",
       "      <td>spam</td>\n",
       "      <td>==============================================...</td>\n",
       "    </tr>\n",
       "    <tr>\n",
       "      <th>/var/www/html/pos-graduacao/RDP/atv02/data/spam/00424.9acca894169b3162d76ebddb69097f3c</th>\n",
       "      <td>spam</td>\n",
       "      <td>\\n\\n&lt;html&gt;\\n\\n&lt;head&gt;\\n\\n\\n\\n&lt;/head&gt;\\n\\n&lt;body b...</td>\n",
       "    </tr>\n",
       "    <tr>\n",
       "      <th>/var/www/html/pos-graduacao/RDP/atv02/data/spam/00057.0a2e17bde9485e999ac2259df38528e2</th>\n",
       "      <td>spam</td>\n",
       "      <td>Lowest rates available for term life insurance...</td>\n",
       "    </tr>\n",
       "    <tr>\n",
       "      <th>/var/www/html/pos-graduacao/RDP/atv02/data/spam/00222.77293b7002c5749b9d31a99b2f4e0366</th>\n",
       "      <td>spam</td>\n",
       "      <td>&lt;!DOCTYPE HTML PUBLIC \"-//W3C//DTD HTML 4.0 Tr...</td>\n",
       "    </tr>\n",
       "  </tbody>\n",
       "</table>\n",
       "</div>"
      ],
      "text/plain": [
       "                                                   class  \\\n",
       "/var/www/html/pos-graduacao/RDP/atv02/data/spam...  spam   \n",
       "/var/www/html/pos-graduacao/RDP/atv02/data/spam...  spam   \n",
       "/var/www/html/pos-graduacao/RDP/atv02/data/spam...  spam   \n",
       "/var/www/html/pos-graduacao/RDP/atv02/data/spam...  spam   \n",
       "/var/www/html/pos-graduacao/RDP/atv02/data/spam...  spam   \n",
       "\n",
       "                                                                                              message  \n",
       "/var/www/html/pos-graduacao/RDP/atv02/data/spam...  AFFORDABLE DOMAIN REGISTRATION FOR EVERYONE\\n\\...  \n",
       "/var/www/html/pos-graduacao/RDP/atv02/data/spam...  ==============================================...  \n",
       "/var/www/html/pos-graduacao/RDP/atv02/data/spam...  \\n\\n<html>\\n\\n<head>\\n\\n\\n\\n</head>\\n\\n<body b...  \n",
       "/var/www/html/pos-graduacao/RDP/atv02/data/spam...  Lowest rates available for term life insurance...  \n",
       "/var/www/html/pos-graduacao/RDP/atv02/data/spam...  <!DOCTYPE HTML PUBLIC \"-//W3C//DTD HTML 4.0 Tr...  "
      ]
     },
     "execution_count": 25,
     "metadata": {},
     "output_type": "execute_result"
    }
   ],
   "source": [
    "# a função head exibe as primeiras linhas do arquivo\n",
    "# podemos definir inclusive quantas linhas passando um parâmetro: head(10) exibe os 10 primeiros\n",
    "data.head()"
   ]
  },
  {
   "cell_type": "markdown",
   "metadata": {},
   "source": [
    "Então vamos usar CountVectorizer para separar cada mensagem em uma lista de palavras e utilizá-las para treinar um classificador Naive Bayes. A função fit() realiza o treinamento"
   ]
  },
  {
   "cell_type": "code",
   "execution_count": 26,
   "metadata": {},
   "outputs": [
    {
     "data": {
      "text/plain": [
       "MultinomialNB(alpha=1.0, class_prior=None, fit_prior=True)"
      ]
     },
     "execution_count": 26,
     "metadata": {},
     "output_type": "execute_result"
    }
   ],
   "source": [
    "# cria o vetorizador de palavras da mensagem\n",
    "vectorizer = CountVectorizer()\n",
    "# conta a frequencia de cada palavra em cada mensagem\n",
    "counts = vectorizer.fit_transform(data['message'].values)\n",
    "# cria o classificador\n",
    "classifier = MultinomialNB()\n",
    "# define qual a saida correta para cada mensagem\n",
    "targets = data['class'].values\n",
    "# realiza o treinamento do classificador\n",
    "classifier.fit(counts, targets)"
   ]
  },
  {
   "cell_type": "markdown",
   "metadata": {},
   "source": [
    "Vamos testar. Criamos um e-mail ficticio e verificamos se o classificador o identifica como spam ou não"
   ]
  },
  {
   "cell_type": "code",
   "execution_count": 27,
   "metadata": {},
   "outputs": [
    {
     "data": {
      "text/plain": [
       "'spam'"
      ]
     },
     "execution_count": 27,
     "metadata": {},
     "output_type": "execute_result"
    }
   ],
   "source": [
    "#mensagem de exemplo\n",
    "spam = ['Free Viagra now!!!', \"Hi Bob, how about a game of golf tomorrow?\"]\n",
    "notspam = ['Job Interview', \"Hi Bob, are you free 10am tomorrow? We have an open hour and your test was rescheduled. Please dont be late\"]\n",
    "# conta a frequencia das palavras da mensagem\n",
    "example_counts = vectorizer.transform(spam)\n",
    "# realiza a predição\n",
    "predictions = classifier.predict(example_counts)\n",
    "predictions[0]"
   ]
  }
 ],
 "metadata": {
  "kernelspec": {
   "display_name": "Python 3",
   "language": "python",
   "name": "python3"
  },
  "language_info": {
   "codemirror_mode": {
    "name": "ipython",
    "version": 2
   },
   "file_extension": ".py",
   "mimetype": "text/x-python",
   "name": "python",
   "nbconvert_exporter": "python",
   "pygments_lexer": "ipython2",
   "version": "2.7.15"
  }
 },
 "nbformat": 4,
 "nbformat_minor": 1
}
