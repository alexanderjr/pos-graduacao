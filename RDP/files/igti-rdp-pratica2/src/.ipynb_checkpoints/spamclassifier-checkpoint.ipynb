{
 "cells": [
  {
   "cell_type": "markdown",
   "metadata": {
    "deletable": true,
    "editable": true
   },
   "source": [
    "# Naive Bayes (classificador de spam)"
   ]
  },
  {
   "cell_type": "markdown",
   "metadata": {
    "deletable": true,
    "editable": true
   },
   "source": [
    "Esse exemplo foi adaptado de Frank Kane da Sundog Education http://sundog-education.com/ e qualquer reprodução deve referenciar seus produtores"
   ]
  },
  {
   "cell_type": "markdown",
   "metadata": {},
   "source": [
    "# Etapa 1: realizar a leitura dos e-mails e colocá-los em um dataframe"
   ]
  },
  {
   "cell_type": "code",
   "execution_count": 1,
   "metadata": {
    "collapsed": false,
    "deletable": true,
    "editable": true
   },
   "outputs": [],
   "source": [
    "import os\n",
    "import io\n",
    "import numpy as np\n",
    "from pandas import DataFrame\n",
    "from sklearn.feature_extraction.text import CountVectorizer\n",
    "from sklearn.naive_bayes import MultinomialNB\n",
    "\n",
    "#função de leitura do arquivo de e-mails \n",
    "def readFiles(path):\n",
    "    for root, dirnames, filenames in os.walk(path):\n",
    "        for filename in filenames:\n",
    "            # encontra o arquivo\n",
    "            path = os.path.join(root, filename)\n",
    "            inBody = False\n",
    "            lines = []\n",
    "            # abre o arquivo\n",
    "            f = io.open(path, 'r', encoding='latin1')\n",
    "            # le p arquivo até o final separando por linhas\n",
    "            for line in f:\n",
    "                if inBody:\n",
    "                    lines.append(line)\n",
    "                elif line == '\\n':\n",
    "                    inBody = True\n",
    "            f.close()\n",
    "            message = '\\n'.join(lines)\n",
    "            #retorna os valores\n",
    "            yield path, message\n",
    "\n",
    "#cria uma estrutura de dados à partir dos dados coletados do arquivo\n",
    "def dataFrameFromDirectory(path, classification):\n",
    "    rows = []\n",
    "    index = []\n",
    "    for filename, message in readFiles(path):\n",
    "        rows.append({'message': message, 'class': classification})\n",
    "        index.append(filename)\n",
    "    return DataFrame(rows, index=index)\n",
    "\n",
    "# coloque aqui o caminho do diretório onde se encontram os e-mails na sua máquina\n",
    "path = \"C:/Users/flavio.calado/OneDrive - animaeducacao 1/una/disiciplinas/4A-TopicosEspeciais/desafios/desafio-machinelearning/exemplos\"\n",
    "\n",
    "# realiza a leiura dos arquivos com os spams 'spam' e dos não spam 'ham'\n",
    "data = DataFrame({'message': [], 'class': []})\n",
    "data = data.append(dataFrameFromDirectory(path+'/emails/spam', 'spam'))\n",
    "data = data.append(dataFrameFromDirectory(path+'/emails/ham', 'ham'))\n"
   ]
  },
  {
   "cell_type": "markdown",
   "metadata": {
    "deletable": true,
    "editable": true
   },
   "source": [
    "Vamos exibir os primeiros registros do aquivo"
   ]
  },
  {
   "cell_type": "code",
   "execution_count": 2,
   "metadata": {
    "collapsed": false,
    "deletable": true,
    "editable": true
   },
   "outputs": [
    {
     "data": {
      "text/html": [
       "<div>\n",
       "<style>\n",
       "    .dataframe thead tr:only-child th {\n",
       "        text-align: right;\n",
       "    }\n",
       "\n",
       "    .dataframe thead th {\n",
       "        text-align: left;\n",
       "    }\n",
       "\n",
       "    .dataframe tbody tr th {\n",
       "        vertical-align: top;\n",
       "    }\n",
       "</style>\n",
       "<table border=\"1\" class=\"dataframe\">\n",
       "  <thead>\n",
       "    <tr style=\"text-align: right;\">\n",
       "      <th></th>\n",
       "      <th>class</th>\n",
       "      <th>message</th>\n",
       "    </tr>\n",
       "  </thead>\n",
       "  <tbody>\n",
       "    <tr>\n",
       "      <th>C:/Users/flavio.calado/OneDrive - animaeducacao 1/una/disiciplinas/4A-TopicosEspeciais/desafios/desafio-machinelearning/exemplos/emails/spam\\00001.7848dde101aa985090474a91ec93fcf0</th>\n",
       "      <td>spam</td>\n",
       "      <td>&lt;!DOCTYPE HTML PUBLIC \"-//W3C//DTD HTML 4.0 Tr...</td>\n",
       "    </tr>\n",
       "    <tr>\n",
       "      <th>C:/Users/flavio.calado/OneDrive - animaeducacao 1/una/disiciplinas/4A-TopicosEspeciais/desafios/desafio-machinelearning/exemplos/emails/spam\\00002.d94f1b97e48ed3b553b3508d116e6a09</th>\n",
       "      <td>spam</td>\n",
       "      <td>1) Fight The Risk of Cancer!\\n\\nhttp://www.adc...</td>\n",
       "    </tr>\n",
       "    <tr>\n",
       "      <th>C:/Users/flavio.calado/OneDrive - animaeducacao 1/una/disiciplinas/4A-TopicosEspeciais/desafios/desafio-machinelearning/exemplos/emails/spam\\00003.2ee33bc6eacdb11f38d052c44819ba6c</th>\n",
       "      <td>spam</td>\n",
       "      <td>1) Fight The Risk of Cancer!\\n\\nhttp://www.adc...</td>\n",
       "    </tr>\n",
       "    <tr>\n",
       "      <th>C:/Users/flavio.calado/OneDrive - animaeducacao 1/una/disiciplinas/4A-TopicosEspeciais/desafios/desafio-machinelearning/exemplos/emails/spam\\00004.eac8de8d759b7e74154f142194282724</th>\n",
       "      <td>spam</td>\n",
       "      <td>##############################################...</td>\n",
       "    </tr>\n",
       "    <tr>\n",
       "      <th>C:/Users/flavio.calado/OneDrive - animaeducacao 1/una/disiciplinas/4A-TopicosEspeciais/desafios/desafio-machinelearning/exemplos/emails/spam\\00005.57696a39d7d84318ce497886896bf90d</th>\n",
       "      <td>spam</td>\n",
       "      <td>I thought you might like these:\\n\\n1) Slim Dow...</td>\n",
       "    </tr>\n",
       "  </tbody>\n",
       "</table>\n",
       "</div>"
      ],
      "text/plain": [
       "                                                   class  \\\n",
       "C:/Users/flavio.calado/OneDrive - animaeducacao...  spam   \n",
       "C:/Users/flavio.calado/OneDrive - animaeducacao...  spam   \n",
       "C:/Users/flavio.calado/OneDrive - animaeducacao...  spam   \n",
       "C:/Users/flavio.calado/OneDrive - animaeducacao...  spam   \n",
       "C:/Users/flavio.calado/OneDrive - animaeducacao...  spam   \n",
       "\n",
       "                                                                                              message  \n",
       "C:/Users/flavio.calado/OneDrive - animaeducacao...  <!DOCTYPE HTML PUBLIC \"-//W3C//DTD HTML 4.0 Tr...  \n",
       "C:/Users/flavio.calado/OneDrive - animaeducacao...  1) Fight The Risk of Cancer!\\n\\nhttp://www.adc...  \n",
       "C:/Users/flavio.calado/OneDrive - animaeducacao...  1) Fight The Risk of Cancer!\\n\\nhttp://www.adc...  \n",
       "C:/Users/flavio.calado/OneDrive - animaeducacao...  ##############################################...  \n",
       "C:/Users/flavio.calado/OneDrive - animaeducacao...  I thought you might like these:\\n\\n1) Slim Dow...  "
      ]
     },
     "execution_count": 2,
     "metadata": {},
     "output_type": "execute_result"
    }
   ],
   "source": [
    "# a função head exibe as primeiras linhas do arquivo\n",
    "# podemos definir inclusive quantas linhas passando um parâmetro: head(10) exibe os 10 primeiros\n",
    "data.head()"
   ]
  },
  {
   "cell_type": "markdown",
   "metadata": {
    "deletable": true,
    "editable": true
   },
   "source": [
    "Então vamos usar CountVectorizer para separar cada mensagem em uma lista de palavras e utilizá-las para treinar um classificador Naive Bayes. A função fit() realiza o treinamento"
   ]
  },
  {
   "cell_type": "code",
   "execution_count": 3,
   "metadata": {
    "collapsed": false,
    "deletable": true,
    "editable": true
   },
   "outputs": [
    {
     "data": {
      "text/plain": [
       "MultinomialNB(alpha=1.0, class_prior=None, fit_prior=True)"
      ]
     },
     "execution_count": 3,
     "metadata": {},
     "output_type": "execute_result"
    }
   ],
   "source": [
    "# cria o vetorizador de palabras da mensagem\n",
    "vectorizer = CountVectorizer()\n",
    "# conta a frequencia de cada palavra em cada mensagem\n",
    "counts = vectorizer.fit_transform(data['message'].values)\n",
    "# cria o classificador\n",
    "classifier = MultinomialNB()\n",
    "# define qual a saida correta para cada mensagem\n",
    "targets = data['class'].values\n",
    "# realiza o treinamento do classificador\n",
    "classifier.fit(counts, targets)"
   ]
  },
  {
   "cell_type": "markdown",
   "metadata": {
    "deletable": true,
    "editable": true
   },
   "source": [
    "Vamos testar. Criamos um e-mail ficticio e verificamos se o classificador o identifica como spam ou não"
   ]
  },
  {
   "cell_type": "code",
   "execution_count": 5,
   "metadata": {
    "collapsed": false,
    "deletable": true,
    "editable": true
   },
   "outputs": [
    {
     "data": {
      "text/plain": [
       "'ham'"
      ]
     },
     "execution_count": 5,
     "metadata": {},
     "output_type": "execute_result"
    }
   ],
   "source": [
    "#mensagem de exemplo\n",
    "spam = ['Free Viagra now!!!', \"Hi Bob, how about a game of golf tomorrow?\"]\n",
    "notspam = ['Job Interview', \"Hi Bob, are you free 10am tomorrow? We have an open hour and your test was rescheduled. Please dont be late\"]\n",
    "# conta a frequencia das palavras da mensagem\n",
    "example_counts = vectorizer.transform(spam)\n",
    "# realiza a predição\n",
    "predictions = classifier.predict(example_counts)\n",
    "predictions[0]"
   ]
  }
 ],
 "metadata": {
  "kernelspec": {
   "display_name": "Python 3",
   "language": "python",
   "name": "python3"
  },
  "language_info": {
   "codemirror_mode": {
    "name": "ipython",
    "version": 3
   },
   "file_extension": ".py",
   "mimetype": "text/x-python",
   "name": "python",
   "nbconvert_exporter": "python",
   "pygments_lexer": "ipython3",
   "version": "3.5.2"
  }
 },
 "nbformat": 4,
 "nbformat_minor": 0
}
